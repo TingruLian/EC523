{
 "cells": [
  {
   "cell_type": "code",
   "execution_count": null,
   "metadata": {},
   "outputs": [],
   "source": [
    "import torch\n",
    "from sahi import single_img_train\n",
    "import os\n",
    "\n",
    "image_folder = r\"images\"\n",
    "image_paths = os.listdir(image_folder)\n",
    "yolo_model = torch.hub.load('ultralytics/yolov5', 'yolov5s')\n",
    "cache_path = r\"cache\"\n",
    "\n",
    "for idx in range(0, len(image_paths)):\n",
    "    image_path = image_paths[idx]\n",
    "    img_path = os.path.join(image_folder, image_path)\n",
    "    sliced_results = single_img_train(img_path, cache_path, cache_path, yolo_model, 10,10)\n",
    "    print(\"Image \" + str(idx) +\" is finished\")\n",
    "    "
   ]
  }
 ],
 "metadata": {
  "interpreter": {
   "hash": "b62cfcd9f0c3c8814b10206c9760fc5205a4b54de2de896e06866023fc4e5cce"
  },
  "kernelspec": {
   "display_name": "Python 3.10.4 ('yolo')",
   "language": "python",
   "name": "python3"
  },
  "language_info": {
   "codemirror_mode": {
    "name": "ipython",
    "version": 3
   },
   "file_extension": ".py",
   "mimetype": "text/x-python",
   "name": "python",
   "nbconvert_exporter": "python",
   "pygments_lexer": "ipython3",
   "version": "3.10.4"
  },
  "orig_nbformat": 4
 },
 "nbformat": 4,
 "nbformat_minor": 2
}
